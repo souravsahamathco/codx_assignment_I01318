{
 "cells": [
  {
   "cell_type": "markdown",
   "metadata": {},
   "source": [
    "## This is your Downloaded Blueprint Notebook ##"
   ]
  },
  {
   "cell_type": "code",
   "execution_count": 1,
   "metadata": {},
   "outputs": [],
   "source": [
    "# tags to identify this iteration when submitted\n",
    "# example: codex_tags = {'env': 'dev', 'region': 'USA', 'product_category': 'A'}\n",
    "\n",
    "codex_tags = {\n",
    "}\n",
    "\n",
    "from codex_widget_factory import utils\n",
    "results_json=[]\n",
    "\n"
   ]
  },
  {
   "cell_type": "markdown",
   "metadata": {},
   "source": [
    "### Ingestion Dataset"
   ]
  },
  {
   "cell_type": "code",
   "execution_count": 7,
   "metadata": {},
   "outputs": [],
   "source": [
    "scatterPlot = \"\"\"\n",
    "# Below codestring is used to plot scatter plot for iris dataset. \n",
    "import plotly.express as px\n",
    "import pandas as pd\n",
    "import json\n",
    "import plotly.io as io\n",
    "from sklearn.datasets import load_iris\n",
    "def getLogger():\n",
    "    import logging\n",
    "    logging.basicConfig(filename=\"UIACLogger.log\",\n",
    "                        format='%(asctime)s %(message)s',\n",
    "                        filemode='a')\n",
    "    logger = logging.getLogger()\n",
    "    logger.setLevel(logging.DEBUG)\n",
    "    return logger\n",
    "logger = getLogger()\n",
    "def read_dataset():\n",
    "    # Read dataset from the sklearn\n",
    "    logger.info(\"Read dataset file from sklearn\")\n",
    "    try:\n",
    "        dframe = load_iris(as_frame=True).data\n",
    "        dframe['color']='yellow'\n",
    "        dframe['color'][70:]='red'\n",
    "        return dframe\n",
    "    except Exception as error_msg:\n",
    "        logger.info(f\"Exception occured while reading the dataset\"\n",
    "                    f\"Error Info is  {error_msg}\")\n",
    "def getGraph(dframe, filters):\n",
    "    logger.info(\n",
    "        \"Preparing scatter plot json to plot iris dataset\")\n",
    "    for item in filters:\n",
    "        if 'All' in filters[item]:\n",
    "            continue\n",
    "        elif isinstance(filters[item], list):\n",
    "            dframe = dframe[dframe[item].isin(filters[item])]\n",
    "        else:\n",
    "            dframe = dframe[dframe[item] == filters[item]]\n",
    "    fig = px.scatter(dframe, x='sepal length (cm)', y='sepal width (cm)', color='color')\n",
    "    # fig.show()\n",
    "    logger.info(\n",
    "        \"Successfully prepared scatter plot json to plot iris dataset\")\n",
    "    return io.to_json(fig)\n",
    "#selected_filters = {\"color\": 'yellow'}\n",
    "dframe = read_dataset()\n",
    "dynamic_outputs = getGraph(dframe, selected_filters)\n",
    "\"\"\""
   ]
  },
  {
   "cell_type": "code",
   "execution_count": 8,
   "metadata": {},
   "outputs": [],
   "source": [
    "gridtableiris = \"\"\"\n",
    "# Below codestring is used to plot scatter plot for iris dataset. \n",
    "import plotly.express as px\n",
    "import pandas as pd\n",
    "import json\n",
    "import plotly.io as io\n",
    "from sklearn.datasets import load_iris\n",
    "from sqlalchemy import create_engine\n",
    "def getLogger():\n",
    "    import logging\n",
    "    logging.basicConfig(filename=\"UIACLogger.log\",\n",
    "                        format='%(asctime)s %(message)s',\n",
    "                        filemode='a')\n",
    "    logger = logging.getLogger()\n",
    "    logger.setLevel(logging.DEBUG)\n",
    "    return logger\n",
    "logger = getLogger()\n",
    "def read_dataset():\n",
    "    # Read dataset from the sklearn\n",
    "    logger.info(\"Read dataset file from sklearn\")\n",
    "    try:\n",
    "        dframe = load_iris(as_frame=True).data\n",
    "        dframe['color']='yellow'\n",
    "        dframe['color'][60:]='red'\n",
    "        return dframe\n",
    "    except Exception as error_msg:\n",
    "        logger.info(f\"Exception occured while reading the dataset\"\n",
    "                    f\"Error Info is  {error_msg}\")\n",
    "def read_database_data(sql_query):\n",
    "    APPLICATION_DB_HOST = \"trainingserverbatch3.postgres.database.azure.com\"\n",
    "    APPLICATION_DB_NAME = \"Training_S3_DB\"\n",
    "    APPLICATION_DB_USER = \"Trainingadmin\"\n",
    "    APPLICATION_DB_PASSWORD = \"p%40ssw0rd\"\n",
    "    try:\n",
    "        connection_uri = f\"postgresql://{APPLICATION_DB_USER}:{APPLICATION_DB_PASSWORD}@{APPLICATION_DB_HOST}/{APPLICATION_DB_NAME}\"\n",
    "        engine = create_engine(connection_uri)\n",
    "        connection = engine.connect()\n",
    "        dframe = pd.read_sql_query(sql_query,con=connection)\n",
    "        return dframe\n",
    "    except Exception as error:\n",
    "        print(f\"Error occured while reading data from database\"\n",
    "                f\"using query {sql_query} and error info: {error}\")\n",
    "    finally:\n",
    "        if connection is not None:\n",
    "            connection.close()                    \n",
    "def generate_dynamic_table(dframe, name='Sales', grid_options={\"tableSize\": \"small\", \"tableMaxHeight\": \"80vh\", \"quickSearch\":True}, group_headers=[], grid=\"auto\"):\n",
    "    logger.info(\"Generate dynamic Grid table json from dframe\")\n",
    "    table_dict = {}\n",
    "    table_props = {}\n",
    "    table_dict.update({\"grid\": grid, \"type\": \"tabularForm\",\n",
    "                      \"noGutterBottom\": True, 'name': name})\n",
    "    values_dict = dframe.dropna(axis=1).to_dict(\"records\")\n",
    "    table_dict.update({\"value\": values_dict})\n",
    "    col_def_list = []\n",
    "    for col in list(dframe.columns):\n",
    "        col_def_dict = {}\n",
    "        col_def_dict.update({\"headerName\": col, \"field\": col})\n",
    "        col_def_list.append(col_def_dict)\n",
    "    table_props[\"groupHeaders\"] = group_headers\n",
    "    table_props[\"coldef\"] = col_def_list\n",
    "    table_props[\"gridOptions\"] = grid_options\n",
    "    table_dict.update({\"tableprops\": table_props})\n",
    "    logger.info(\"Successfully generated dynamic Grid table json from dframe\")\n",
    "    return table_dict\n",
    "def build_grid_table_json():\n",
    "    logger.info(\"Preparing grid table json for Product Returns Screen\")\n",
    "    form_config = {}\n",
    "    sql_query = 'select * from i1318_iris'\n",
    "    dframe = read_database_data(sql_query)\n",
    "    form_config['fields'] = [generate_dynamic_table(dframe)]\n",
    "    grid_table_json = {}\n",
    "    grid_table_json['form_config'] = form_config\n",
    "    logger.info(\"Successfully prepared grid table json for Product Returns Screen\")\n",
    "    return grid_table_json\n",
    "grid_table_json = build_grid_table_json()\n",
    "dynamic_outputs = json.dumps(grid_table_json)    \n",
    "\"\"\""
   ]
  },
  {
   "cell_type": "code",
   "execution_count": 9,
   "metadata": {},
   "outputs": [],
   "source": [
    "\n",
    "\n",
    "# dynamic_result = {'Iris_plot_one' : scatterPlotIris,\n",
    "#                  'Iris_plot_two' : scatterPlot,} \n",
    "\n",
    "dynamic_result = {\n",
    "    'Question one': scatterPlot,\n",
    "    'Question two': gridtableiris, }\n",
    "\n",
    "results_json.append({\n",
    "    'type': 'Dynamic Plot',\n",
    "    'name': 'Dynamic Plot',\n",
    "    'component': 'Dynamic Plot',\n",
    "    'dynamic_visual_results': dynamic_result})\n",
    "   "
   ]
  },
  {
   "cell_type": "markdown",
   "metadata": {},
   "source": [
    "### Please save and checkpoint notebook before submitting params"
   ]
  },
  {
   "cell_type": "code",
   "execution_count": 10,
   "metadata": {},
   "outputs": [
    {
     "name": "stdout",
     "output_type": "stream",
     "text": [
      "(4, 4) {}\n",
      "{'$schema': 'http://json-schema.org/draft-04/schema#', 'description': 'Jupyter Notebook v4.4 JSON schema.', 'type': 'object', 'additionalProperties': False, 'required': ['metadata', 'nbformat_minor', 'nbformat', 'cells'], 'properties': {'metadata': {'description': 'Notebook root-level metadata.', 'type': 'object', 'additionalProperties': True, 'properties': {'kernelspec': {'description': 'Kernel information.', 'type': 'object', 'required': ['name', 'display_name'], 'properties': {'name': {'description': 'Name of the kernel specification.', 'type': 'string'}, 'display_name': {'description': 'Name to display in UI.', 'type': 'string'}}}, 'language_info': {'description': 'Kernel information.', 'type': 'object', 'required': ['name'], 'properties': {'name': {'description': 'The programming language which this kernel runs.', 'type': 'string'}, 'codemirror_mode': {'description': 'The codemirror mode to use for code in this language.', 'oneOf': [{'type': 'string'}, {'type': 'object'}]}, 'file_extension': {'description': 'The file extension for files in this language.', 'type': 'string'}, 'mimetype': {'description': 'The mimetype corresponding to files in this language.', 'type': 'string'}, 'pygments_lexer': {'description': 'The pygments lexer to use for code in this language.', 'type': 'string'}}}, 'orig_nbformat': {'description': 'Original notebook format (major number) before converting the notebook between versions. This should never be written to a file.', 'type': 'integer', 'minimum': 1}, 'title': {'description': 'The title of the notebook document', 'type': 'string'}, 'authors': {'description': 'The author(s) of the notebook document', 'type': 'array', 'item': {'type': 'object', 'properties': {'name': {'type': 'string'}}, 'additionalProperties': True}}}}, 'nbformat_minor': {'description': 'Notebook format (minor number). Incremented for backward compatible changes to the notebook format.', 'type': 'integer', 'minimum': 3}, 'nbformat': {'description': 'Notebook format (major number). Incremented between backwards incompatible changes to the notebook format.', 'type': 'integer', 'minimum': 4, 'maximum': 4}, 'cells': {'description': 'Array of cells of the current notebook.', 'type': 'array', 'items': {'$ref': '#/definitions/cell'}}}, 'definitions': {'cell': {'type': 'object', 'oneOf': [{'$ref': '#/definitions/raw_cell'}, {'$ref': '#/definitions/markdown_cell'}, {'$ref': '#/definitions/code_cell'}]}, 'raw_cell': {'description': 'Notebook raw nbconvert cell.', 'type': 'object', 'additionalProperties': False, 'required': ['cell_type', 'metadata', 'source'], 'properties': {'cell_type': {'description': 'String identifying the type of cell.', 'enum': ['raw']}, 'metadata': {'description': 'Cell-level metadata.', 'type': 'object', 'additionalProperties': True, 'properties': {'format': {'description': 'Raw cell metadata format for nbconvert.', 'type': 'string'}, 'jupyter': {'description': 'Official Jupyter Metadata for Raw Cells', 'type': 'object', 'additionalProperties': True, 'source_hidden': {'description': 'Whether the source is hidden.', 'type': 'boolean'}}, 'name': {'$ref': '#/definitions/misc/metadata_name'}, 'tags': {'$ref': '#/definitions/misc/metadata_tags'}}}, 'attachments': {'$ref': '#/definitions/misc/attachments'}, 'source': {'$ref': '#/definitions/misc/source'}}}, 'markdown_cell': {'description': 'Notebook markdown cell.', 'type': 'object', 'additionalProperties': False, 'required': ['cell_type', 'metadata', 'source'], 'properties': {'cell_type': {'description': 'String identifying the type of cell.', 'enum': ['markdown']}, 'metadata': {'description': 'Cell-level metadata.', 'type': 'object', 'properties': {'name': {'$ref': '#/definitions/misc/metadata_name'}, 'tags': {'$ref': '#/definitions/misc/metadata_tags'}, 'jupyter': {'description': 'Official Jupyter Metadata for Markdown Cells', 'type': 'object', 'additionalProperties': True, 'source_hidden': {'description': 'Whether the source is hidden.', 'type': 'boolean'}}}, 'additionalProperties': True}, 'attachments': {'$ref': '#/definitions/misc/attachments'}, 'source': {'$ref': '#/definitions/misc/source'}}}, 'code_cell': {'description': 'Notebook code cell.', 'type': 'object', 'additionalProperties': False, 'required': ['cell_type', 'metadata', 'source', 'outputs', 'execution_count'], 'properties': {'cell_type': {'description': 'String identifying the type of cell.', 'enum': ['code']}, 'metadata': {'description': 'Cell-level metadata.', 'type': 'object', 'additionalProperties': True, 'properties': {'jupyter': {'description': 'Official Jupyter Metadata for Code Cells', 'type': 'object', 'additionalProperties': True, 'source_hidden': {'description': 'Whether the source is hidden.', 'type': 'boolean'}, 'outputs_hidden': {'description': 'Whether the outputs are hidden.', 'type': 'boolean'}}, 'execution': {'description': 'Execution time for the code in the cell. This tracks time at which messages are recieved from iopub or shell channels', 'type': 'object', 'properties': {'iopub.execute_input': {'description': \"header.date (in ISO 8601 format) of iopub channel's execute_input message. It indicates the time at which the kernel broadcast an execute_input message to connected frontends\", 'type': 'string'}, 'iopub.status.busy': {'description': \"header.date (in ISO 8601 format) of iopub channel's kernel status message when the status is 'busy'\", 'type': 'string'}, 'shell.execute_reply': {'description': \"header.date (in ISO 8601 format) of the shell channel's execute_reply message. It indicates the time at which the execute_reply message was created\", 'type': 'string'}, 'iopub.status.idle': {'description': \"header.date (in ISO 8601 format) of iopub channel's execute_input message. It indicates the time at which kernel finished processing the associated request\", 'type': 'string'}}, 'additionalProperties': True, 'patternProperties': {'^.*$': {'type': 'string'}}}, 'collapsed': {'description': \"Whether the cell's output is collapsed/expanded.\", 'type': 'boolean'}, 'scrolled': {'description': \"Whether the cell's output is scrolled, unscrolled, or autoscrolled.\", 'enum': [True, False, 'auto']}, 'name': {'$ref': '#/definitions/misc/metadata_name'}, 'tags': {'$ref': '#/definitions/misc/metadata_tags'}}}, 'source': {'$ref': '#/definitions/misc/source'}, 'outputs': {'description': 'Execution, display, or stream outputs.', 'type': 'array', 'items': {'$ref': '#/definitions/output'}}, 'execution_count': {'description': \"The code cell's prompt number. Will be null if the cell has not been run.\", 'type': ['integer', 'null'], 'minimum': 0}}}, 'unrecognized_cell': {'description': 'Unrecognized cell from a future minor-revision to the notebook format.', 'type': 'object', 'additionalProperties': True, 'required': ['cell_type', 'metadata'], 'properties': {'cell_type': {'description': 'String identifying the type of cell.', 'not': {'enum': ['markdown', 'code', 'raw']}}, 'metadata': {'description': 'Cell-level metadata.', 'type': 'object', 'properties': {'name': {'$ref': '#/definitions/misc/metadata_name'}, 'tags': {'$ref': '#/definitions/misc/metadata_tags'}}, 'additionalProperties': True}}}, 'output': {'type': 'object', 'oneOf': [{'$ref': '#/definitions/execute_result'}, {'$ref': '#/definitions/display_data'}, {'$ref': '#/definitions/stream'}, {'$ref': '#/definitions/error'}]}, 'execute_result': {'description': 'Result of executing a code cell.', 'type': 'object', 'additionalProperties': False, 'required': ['output_type', 'data', 'metadata', 'execution_count'], 'properties': {'output_type': {'description': 'Type of cell output.', 'enum': ['execute_result']}, 'execution_count': {'description': \"A result's prompt number.\", 'type': ['integer', 'null'], 'minimum': 0}, 'data': {'$ref': '#/definitions/misc/mimebundle'}, 'metadata': {'$ref': '#/definitions/misc/output_metadata'}}}, 'display_data': {'description': 'Data displayed as a result of code cell execution.', 'type': 'object', 'additionalProperties': False, 'required': ['output_type', 'data', 'metadata'], 'properties': {'output_type': {'description': 'Type of cell output.', 'enum': ['display_data']}, 'data': {'$ref': '#/definitions/misc/mimebundle'}, 'metadata': {'$ref': '#/definitions/misc/output_metadata'}}}, 'stream': {'description': 'Stream output from a code cell.', 'type': 'object', 'additionalProperties': False, 'required': ['output_type', 'name', 'text'], 'properties': {'output_type': {'description': 'Type of cell output.', 'enum': ['stream']}, 'name': {'description': 'The name of the stream (stdout, stderr).', 'type': 'string'}, 'text': {'description': \"The stream's text output, represented as an array of strings.\", '$ref': '#/definitions/misc/multiline_string'}}}, 'error': {'description': 'Output of an error that occurred during code cell execution.', 'type': 'object', 'additionalProperties': False, 'required': ['output_type', 'ename', 'evalue', 'traceback'], 'properties': {'output_type': {'description': 'Type of cell output.', 'enum': ['error']}, 'ename': {'description': 'The name of the error.', 'type': 'string'}, 'evalue': {'description': 'The value, or message, of the error.', 'type': 'string'}, 'traceback': {'description': \"The error's traceback, represented as an array of strings.\", 'type': 'array', 'items': {'type': 'string'}}}}, 'unrecognized_output': {'description': 'Unrecognized output from a future minor-revision to the notebook format.', 'type': 'object', 'additionalProperties': True, 'required': ['output_type'], 'properties': {'output_type': {'description': 'Type of cell output.', 'not': {'enum': ['execute_result', 'display_data', 'stream', 'error']}}}}, 'misc': {'metadata_name': {'description': \"The cell's name. If present, must be a non-empty string. Cell names are expected to be unique across all the cells in a given notebook. This criterion cannot be checked by the json schema and must be established by an additional check.\", 'type': 'string', 'pattern': '^.+$'}, 'metadata_tags': {'description': \"The cell's tags. Tags must be unique, and must not contain commas.\", 'type': 'array', 'uniqueItems': True, 'items': {'type': 'string', 'pattern': '^[^,]+$'}}, 'attachments': {'description': 'Media attachments (e.g. inline images), stored as mimebundle keyed by filename.', 'type': 'object', 'patternProperties': {'.*': {'description': \"The attachment's data stored as a mimebundle.\", '$ref': '#/definitions/misc/mimebundle'}}}, 'source': {'description': 'Contents of the cell, represented as an array of lines.', '$ref': '#/definitions/misc/multiline_string'}, 'execution_count': {'description': \"The code cell's prompt number. Will be null if the cell has not been run.\", 'type': ['integer', 'null'], 'minimum': 0}, 'mimebundle': {'description': 'A mime-type keyed dictionary of data', 'type': 'object', 'additionalProperties': {'description': 'mimetype output (e.g. text/plain), represented as either an array of strings or a string.', '$ref': '#/definitions/misc/multiline_string'}, 'patternProperties': {'^application/(.*\\\\+)?json$': {'description': 'Mimetypes with JSON output, can be any type'}}}, 'output_metadata': {'description': 'Cell output metadata.', 'type': 'object', 'additionalProperties': True}, 'multiline_string': {'oneOf': [{'type': 'string'}, {'type': 'array', 'items': {'type': 'string'}}]}}}}\n",
      "(4, 4) {(4, 4): Draft4Validator(schema={'$schema': 'http://json-...ft-04/schema#', 'additionalProperties': False, 'definitions': {'cell': {'oneOf': [{'$ref': '#/definitions/raw_cell'}, {'$ref': '#/definitions/markdown_cell'}, {'$ref': '#/definitions/code_cell'}], 'type': 'object'}, 'code_cell': {'additionalProperties': False, 'description': 'Notebook code cell.', 'properties': {'cell_type': {'description': 'String ident...type of cell.', 'enum': ['code']}, 'execution_count': {'description': 'The code cel...not been run.', 'minimum': 0, 'type': ['integer', 'null']}, 'metadata': {'additionalProperties': True, 'description': 'Cell-level metadata.', 'properties': {'collapsed': {...}, 'execution': {...}, 'jupyter': {...}, 'name': {...}, ...}, 'type': 'object'}, 'outputs': {'description': 'Execution, d...ream outputs.', 'items': {'$ref': '#/definitions/output'}, 'type': 'array'}, ...}, 'required': ['cell_type', 'metadata', 'source', 'outputs', 'execution_count'], ...}, 'display_data': {'additionalProperties': False, 'description': 'Data display...ll execution.', 'properties': {'data': {'$ref': '#/definition...sc/mimebundle'}, 'metadata': {'$ref': '#/definition...tput_metadata'}, 'output_type': {'description': 'Type of cell output.', 'enum': ['display_data']}}, 'required': ['output_type', 'data', 'metadata'], ...}, 'error': {'additionalProperties': False, 'description': 'Output of an...ll execution.', 'properties': {'ename': {'description': 'The name of the error.', 'type': 'string'}, 'evalue': {'description': 'The value, o...of the error.', 'type': 'string'}, 'output_type': {'description': 'Type of cell output.', 'enum': ['error']}, 'traceback': {'description': \"The error's ...y of strings.\", 'items': {'type': 'string'}, 'type': 'array'}}, 'required': ['output_type', 'ename', 'evalue', 'traceback'], ...}, ...}, 'description': 'Jupyter Note... JSON schema.', ...}, format_checker=None)}\n",
      "(4, 4) {(4, 4): Draft4Validator(schema={'$schema': 'http://json-...ft-04/schema#', 'additionalProperties': True, 'definitions': {'cell': {'oneOf': [{'$ref': '#/definitions/raw_cell'}, {'$ref': '#/definitions/markdown_cell'}, {'$ref': '#/definitions/code_cell'}], 'type': 'object'}, 'code_cell': {'additionalProperties': True, 'description': 'Notebook code cell.', 'properties': {'cell_type': {'description': 'String ident...type of cell.', 'enum': ['code']}, 'execution_count': {'description': 'The code cel...not been run.', 'minimum': 0, 'type': ['integer', 'null']}, 'metadata': {'additionalProperties': True, 'description': 'Cell-level metadata.', 'properties': {'collapsed': {...}, 'execution': {...}, 'jupyter': {...}, 'name': {...}, ...}, 'type': 'object'}, 'outputs': {'description': 'Execution, d...ream outputs.', 'items': {'$ref': '#/definitions/output'}, 'type': 'array'}, ...}, 'required': ['cell_type', 'metadata', 'source', 'outputs', 'execution_count'], ...}, 'display_data': {'additionalProperties': True, 'description': 'Data display...ll execution.', 'properties': {'data': {'$ref': '#/definition...sc/mimebundle'}, 'metadata': {'$ref': '#/definition...tput_metadata'}, 'output_type': {'description': 'Type of cell output.', 'enum': ['display_data']}}, 'required': ['output_type', 'data', 'metadata'], ...}, 'error': {'additionalProperties': True, 'description': 'Output of an...ll execution.', 'properties': {'ename': {'description': 'The name of the error.', 'type': 'string'}, 'evalue': {'description': 'The value, o...of the error.', 'type': 'string'}, 'output_type': {'description': 'Type of cell output.', 'enum': ['error']}, 'traceback': {'description': \"The error's ...y of strings.\", 'items': {'type': 'string'}, 'type': 'array'}}, 'required': ['output_type', 'ename', 'evalue', 'traceback'], ...}, ...}, 'description': 'Jupyter Note... JSON schema.', ...}, format_checker=None)}\n",
      "(4, 4) {(4, 4): Draft4Validator(schema={'$schema': 'http://json-...ft-04/schema#', 'additionalProperties': True, 'definitions': {'cell': {'oneOf': [{'$ref': '#/definitions/raw_cell'}, {'$ref': '#/definitions/markdown_cell'}, {'$ref': '#/definitions/code_cell'}], 'type': 'object'}, 'code_cell': {'additionalProperties': True, 'description': 'Notebook code cell.', 'properties': {'cell_type': {'description': 'String ident...type of cell.', 'enum': ['code']}, 'execution_count': {'description': 'The code cel...not been run.', 'minimum': 0, 'type': ['integer', 'null']}, 'metadata': {'additionalProperties': True, 'description': 'Cell-level metadata.', 'properties': {'collapsed': {...}, 'execution': {...}, 'jupyter': {...}, 'name': {...}, ...}, 'type': 'object'}, 'outputs': {'description': 'Execution, d...ream outputs.', 'items': {'$ref': '#/definitions/output'}, 'type': 'array'}, ...}, 'required': ['cell_type', 'metadata', 'source', 'outputs', 'execution_count'], ...}, 'display_data': {'additionalProperties': True, 'description': 'Data display...ll execution.', 'properties': {'data': {'$ref': '#/definition...sc/mimebundle'}, 'metadata': {'$ref': '#/definition...tput_metadata'}, 'output_type': {'description': 'Type of cell output.', 'enum': ['display_data']}}, 'required': ['output_type', 'data', 'metadata'], ...}, 'error': {'additionalProperties': True, 'description': 'Output of an...ll execution.', 'properties': {'ename': {'description': 'The name of the error.', 'type': 'string'}, 'evalue': {'description': 'The value, o...of the error.', 'type': 'string'}, 'output_type': {'description': 'Type of cell output.', 'enum': ['error']}, 'traceback': {'description': \"The error's ...y of strings.\", 'items': {'type': 'string'}, 'type': 'array'}}, 'required': ['output_type', 'ename', 'evalue', 'traceback'], ...}, ...}, 'description': 'Jupyter Note... JSON schema.', ...}, format_checker=None)}\n",
      "(4, 4) {(4, 4): Draft4Validator(schema={'$schema': 'http://json-...ft-04/schema#', 'additionalProperties': True, 'definitions': {'cell': {'oneOf': [{'$ref': '#/definitions/raw_cell'}, {'$ref': '#/definitions/markdown_cell'}, {'$ref': '#/definitions/code_cell'}], 'type': 'object'}, 'code_cell': {'additionalProperties': True, 'description': 'Notebook code cell.', 'properties': {'cell_type': {'description': 'String ident...type of cell.', 'enum': ['code']}, 'execution_count': {'description': 'The code cel...not been run.', 'minimum': 0, 'type': ['integer', 'null']}, 'metadata': {'additionalProperties': True, 'description': 'Cell-level metadata.', 'properties': {'collapsed': {...}, 'execution': {...}, 'jupyter': {...}, 'name': {...}, ...}, 'type': 'object'}, 'outputs': {'description': 'Execution, d...ream outputs.', 'items': {'$ref': '#/definitions/output'}, 'type': 'array'}, ...}, 'required': ['cell_type', 'metadata', 'source', 'outputs', 'execution_count'], ...}, 'display_data': {'additionalProperties': True, 'description': 'Data display...ll execution.', 'properties': {'data': {'$ref': '#/definition...sc/mimebundle'}, 'metadata': {'$ref': '#/definition...tput_metadata'}, 'output_type': {'description': 'Type of cell output.', 'enum': ['display_data']}}, 'required': ['output_type', 'data', 'metadata'], ...}, 'error': {'additionalProperties': True, 'description': 'Output of an...ll execution.', 'properties': {'ename': {'description': 'The name of the error.', 'type': 'string'}, 'evalue': {'description': 'The value, o...of the error.', 'type': 'string'}, 'output_type': {'description': 'Type of cell output.', 'enum': ['error']}, 'traceback': {'description': \"The error's ...y of strings.\", 'items': {'type': 'string'}, 'type': 'array'}}, 'required': ['output_type', 'ename', 'evalue', 'traceback'], ...}, ...}, 'description': 'Jupyter Note... JSON schema.', ...}, format_checker=None)}\n",
      "(4, 4) {(4, 4): Draft4Validator(schema={'$schema': 'http://json-...ft-04/schema#', 'additionalProperties': True, 'definitions': {'cell': {'oneOf': [{'$ref': '#/definitions/raw_cell'}, {'$ref': '#/definitions/markdown_cell'}, {'$ref': '#/definitions/code_cell'}], 'type': 'object'}, 'code_cell': {'additionalProperties': True, 'description': 'Notebook code cell.', 'properties': {'cell_type': {'description': 'String ident...type of cell.', 'enum': ['code']}, 'execution_count': {'description': 'The code cel...not been run.', 'minimum': 0, 'type': ['integer', 'null']}, 'metadata': {'additionalProperties': True, 'description': 'Cell-level metadata.', 'properties': {'collapsed': {...}, 'execution': {...}, 'jupyter': {...}, 'name': {...}, ...}, 'type': 'object'}, 'outputs': {'description': 'Execution, d...ream outputs.', 'items': {'$ref': '#/definitions/output'}, 'type': 'array'}, ...}, 'required': ['cell_type', 'metadata', 'source', 'outputs', 'execution_count'], ...}, 'display_data': {'additionalProperties': True, 'description': 'Data display...ll execution.', 'properties': {'data': {'$ref': '#/definition...sc/mimebundle'}, 'metadata': {'$ref': '#/definition...tput_metadata'}, 'output_type': {'description': 'Type of cell output.', 'enum': ['display_data']}}, 'required': ['output_type', 'data', 'metadata'], ...}, 'error': {'additionalProperties': True, 'description': 'Output of an...ll execution.', 'properties': {'ename': {'description': 'The name of the error.', 'type': 'string'}, 'evalue': {'description': 'The value, o...of the error.', 'type': 'string'}, 'output_type': {'description': 'Type of cell output.', 'enum': ['error']}, 'traceback': {'description': \"The error's ...y of strings.\", 'items': {'type': 'string'}, 'type': 'array'}}, 'required': ['output_type', 'ename', 'evalue', 'traceback'], ...}, ...}, 'description': 'Jupyter Note... JSON schema.', ...}, format_checker=None)}\n",
      "(4, 4) {(4, 4): Draft4Validator(schema={'$schema': 'http://json-...ft-04/schema#', 'additionalProperties': True, 'definitions': {'cell': {'oneOf': [{'$ref': '#/definitions/raw_cell'}, {'$ref': '#/definitions/markdown_cell'}, {'$ref': '#/definitions/code_cell'}], 'type': 'object'}, 'code_cell': {'additionalProperties': True, 'description': 'Notebook code cell.', 'properties': {'cell_type': {'description': 'String ident...type of cell.', 'enum': ['code']}, 'execution_count': {'description': 'The code cel...not been run.', 'minimum': 0, 'type': ['integer', 'null']}, 'metadata': {'additionalProperties': True, 'description': 'Cell-level metadata.', 'properties': {'collapsed': {...}, 'execution': {...}, 'jupyter': {...}, 'name': {...}, ...}, 'type': 'object'}, 'outputs': {'description': 'Execution, d...ream outputs.', 'items': {'$ref': '#/definitions/output'}, 'type': 'array'}, ...}, 'required': ['cell_type', 'metadata', 'source', 'outputs', 'execution_count'], ...}, 'display_data': {'additionalProperties': True, 'description': 'Data display...ll execution.', 'properties': {'data': {'$ref': '#/definition...sc/mimebundle'}, 'metadata': {'$ref': '#/definition...tput_metadata'}, 'output_type': {'description': 'Type of cell output.', 'enum': ['display_data']}}, 'required': ['output_type', 'data', 'metadata'], ...}, 'error': {'additionalProperties': True, 'description': 'Output of an...ll execution.', 'properties': {'ename': {'description': 'The name of the error.', 'type': 'string'}, 'evalue': {'description': 'The value, o...of the error.', 'type': 'string'}, 'output_type': {'description': 'Type of cell output.', 'enum': ['error']}, 'traceback': {'description': \"The error's ...y of strings.\", 'items': {'type': 'string'}, 'type': 'array'}}, 'required': ['output_type', 'ename', 'evalue', 'traceback'], ...}, ...}, 'description': 'Jupyter Note... JSON schema.', ...}, format_checker=None)}\n",
      "(4, 4) {(4, 4): Draft4Validator(schema={'$schema': 'http://json-...ft-04/schema#', 'additionalProperties': True, 'definitions': {'cell': {'oneOf': [{'$ref': '#/definitions/raw_cell'}, {'$ref': '#/definitions/markdown_cell'}, {'$ref': '#/definitions/code_cell'}], 'type': 'object'}, 'code_cell': {'additionalProperties': True, 'description': 'Notebook code cell.', 'properties': {'cell_type': {'description': 'String ident...type of cell.', 'enum': ['code']}, 'execution_count': {'description': 'The code cel...not been run.', 'minimum': 0, 'type': ['integer', 'null']}, 'metadata': {'additionalProperties': True, 'description': 'Cell-level metadata.', 'properties': {'collapsed': {...}, 'execution': {...}, 'jupyter': {...}, 'name': {...}, ...}, 'type': 'object'}, 'outputs': {'description': 'Execution, d...ream outputs.', 'items': {'$ref': '#/definitions/output'}, 'type': 'array'}, ...}, 'required': ['cell_type', 'metadata', 'source', 'outputs', 'execution_count'], ...}, 'display_data': {'additionalProperties': True, 'description': 'Data display...ll execution.', 'properties': {'data': {'$ref': '#/definition...sc/mimebundle'}, 'metadata': {'$ref': '#/definition...tput_metadata'}, 'output_type': {'description': 'Type of cell output.', 'enum': ['display_data']}}, 'required': ['output_type', 'data', 'metadata'], ...}, 'error': {'additionalProperties': True, 'description': 'Output of an...ll execution.', 'properties': {'ename': {'description': 'The name of the error.', 'type': 'string'}, 'evalue': {'description': 'The value, o...of the error.', 'type': 'string'}, 'output_type': {'description': 'Type of cell output.', 'enum': ['error']}, 'traceback': {'description': \"The error's ...y of strings.\", 'items': {'type': 'string'}, 'type': 'array'}}, 'required': ['output_type', 'ename', 'evalue', 'traceback'], ...}, ...}, 'description': 'Jupyter Note... JSON schema.', ...}, format_checker=None)}\n",
      "(4, 4) {(4, 4): Draft4Validator(schema={'$schema': 'http://json-...ft-04/schema#', 'additionalProperties': True, 'definitions': {'cell': {'oneOf': [{'$ref': '#/definitions/raw_cell'}, {'$ref': '#/definitions/markdown_cell'}, {'$ref': '#/definitions/code_cell'}], 'type': 'object'}, 'code_cell': {'additionalProperties': True, 'description': 'Notebook code cell.', 'properties': {'cell_type': {'description': 'String ident...type of cell.', 'enum': ['code']}, 'execution_count': {'description': 'The code cel...not been run.', 'minimum': 0, 'type': ['integer', 'null']}, 'metadata': {'additionalProperties': True, 'description': 'Cell-level metadata.', 'properties': {'collapsed': {...}, 'execution': {...}, 'jupyter': {...}, 'name': {...}, ...}, 'type': 'object'}, 'outputs': {'description': 'Execution, d...ream outputs.', 'items': {'$ref': '#/definitions/output'}, 'type': 'array'}, ...}, 'required': ['cell_type', 'metadata', 'source', 'outputs', 'execution_count'], ...}, 'display_data': {'additionalProperties': True, 'description': 'Data display...ll execution.', 'properties': {'data': {'$ref': '#/definition...sc/mimebundle'}, 'metadata': {'$ref': '#/definition...tput_metadata'}, 'output_type': {'description': 'Type of cell output.', 'enum': ['display_data']}}, 'required': ['output_type', 'data', 'metadata'], ...}, 'error': {'additionalProperties': True, 'description': 'Output of an...ll execution.', 'properties': {'ename': {'description': 'The name of the error.', 'type': 'string'}, 'evalue': {'description': 'The value, o...of the error.', 'type': 'string'}, 'output_type': {'description': 'Type of cell output.', 'enum': ['error']}, 'traceback': {'description': \"The error's ...y of strings.\", 'items': {'type': 'string'}, 'type': 'array'}}, 'required': ['output_type', 'ename', 'evalue', 'traceback'], ...}, ...}, 'description': 'Jupyter Note... JSON schema.', ...}, format_checker=None)}\n",
      "(4, 4) {(4, 4): Draft4Validator(schema={'$schema': 'http://json-...ft-04/schema#', 'additionalProperties': True, 'definitions': {'cell': {'oneOf': [{'$ref': '#/definitions/raw_cell'}, {'$ref': '#/definitions/markdown_cell'}, {'$ref': '#/definitions/code_cell'}], 'type': 'object'}, 'code_cell': {'additionalProperties': True, 'description': 'Notebook code cell.', 'properties': {'cell_type': {'description': 'String ident...type of cell.', 'enum': ['code']}, 'execution_count': {'description': 'The code cel...not been run.', 'minimum': 0, 'type': ['integer', 'null']}, 'metadata': {'additionalProperties': True, 'description': 'Cell-level metadata.', 'properties': {'collapsed': {...}, 'execution': {...}, 'jupyter': {...}, 'name': {...}, ...}, 'type': 'object'}, 'outputs': {'description': 'Execution, d...ream outputs.', 'items': {'$ref': '#/definitions/output'}, 'type': 'array'}, ...}, 'required': ['cell_type', 'metadata', 'source', 'outputs', 'execution_count'], ...}, 'display_data': {'additionalProperties': True, 'description': 'Data display...ll execution.', 'properties': {'data': {'$ref': '#/definition...sc/mimebundle'}, 'metadata': {'$ref': '#/definition...tput_metadata'}, 'output_type': {'description': 'Type of cell output.', 'enum': ['display_data']}}, 'required': ['output_type', 'data', 'metadata'], ...}, 'error': {'additionalProperties': True, 'description': 'Output of an...ll execution.', 'properties': {'ename': {'description': 'The name of the error.', 'type': 'string'}, 'evalue': {'description': 'The value, o...of the error.', 'type': 'string'}, 'output_type': {'description': 'Type of cell output.', 'enum': ['error']}, 'traceback': {'description': \"The error's ...y of strings.\", 'items': {'type': 'string'}, 'type': 'array'}}, 'required': ['output_type', 'ename', 'evalue', 'traceback'], ...}, ...}, 'description': 'Jupyter Note... JSON schema.', ...}, format_checker=None)}\n",
      "(4, 4) {(4, 4): Draft4Validator(schema={'$schema': 'http://json-...ft-04/schema#', 'additionalProperties': True, 'definitions': {'cell': {'oneOf': [{'$ref': '#/definitions/raw_cell'}, {'$ref': '#/definitions/markdown_cell'}, {'$ref': '#/definitions/code_cell'}], 'type': 'object'}, 'code_cell': {'additionalProperties': True, 'description': 'Notebook code cell.', 'properties': {'cell_type': {'description': 'String ident...type of cell.', 'enum': ['code']}, 'execution_count': {'description': 'The code cel...not been run.', 'minimum': 0, 'type': ['integer', 'null']}, 'metadata': {'additionalProperties': True, 'description': 'Cell-level metadata.', 'properties': {'collapsed': {...}, 'execution': {...}, 'jupyter': {...}, 'name': {...}, ...}, 'type': 'object'}, 'outputs': {'description': 'Execution, d...ream outputs.', 'items': {'$ref': '#/definitions/output'}, 'type': 'array'}, ...}, 'required': ['cell_type', 'metadata', 'source', 'outputs', 'execution_count'], ...}, 'display_data': {'additionalProperties': True, 'description': 'Data display...ll execution.', 'properties': {'data': {'$ref': '#/definition...sc/mimebundle'}, 'metadata': {'$ref': '#/definition...tput_metadata'}, 'output_type': {'description': 'Type of cell output.', 'enum': ['display_data']}}, 'required': ['output_type', 'data', 'metadata'], ...}, 'error': {'additionalProperties': True, 'description': 'Output of an...ll execution.', 'properties': {'ename': {'description': 'The name of the error.', 'type': 'string'}, 'evalue': {'description': 'The value, o...of the error.', 'type': 'string'}, 'output_type': {'description': 'Type of cell output.', 'enum': ['error']}, 'traceback': {'description': \"The error's ...y of strings.\", 'items': {'type': 'string'}, 'type': 'array'}}, 'required': ['output_type', 'ename', 'evalue', 'traceback'], ...}, ...}, 'description': 'Jupyter Note... JSON schema.', ...}, format_checker=None)}\n"
     ]
    },
    {
     "name": "stderr",
     "output_type": "stream",
     "text": [
      "[NbConvertApp] Converting notebook Sourav_I01318_config_2174469_202302221021.ipynb to script\n",
      "[NbConvertApp] Writing 6684 bytes to Sourav_I01318_config_2174469_202302221021.py\n"
     ]
    }
   ],
   "source": [
    "\n",
    "currentNotebook = 'Sourav_I01318_config_2174469_202302221021.ipynb'\n",
    "\n",
    "!jupyter nbconvert --to script {currentNotebook} \n",
    "\n"
   ]
  },
  {
   "cell_type": "code",
   "execution_count": 11,
   "metadata": {},
   "outputs": [
    {
     "name": "stdout",
     "output_type": "stream",
     "text": [
      "['codex_widget_factory']\n",
      "SUCCESS | Submitted config params.\n"
     ]
    }
   ],
   "source": [
    "\n",
    "utils.submit_config_params(url='https://codex-api-stage.azurewebsites.net/codex-api/projects/upload-config-params/wefKiJEOQ2Jb3wJcnbWdTA', nb_name=currentNotebook, results=results_json, codex_tags=codex_tags, args={})"
   ]
  },
  {
   "cell_type": "code",
   "execution_count": null,
   "metadata": {},
   "outputs": [],
   "source": []
  }
 ],
 "metadata": {
  "kernelspec": {
   "display_name": "Python 3 (ipykernel)",
   "language": "python",
   "name": "python3"
  },
  "language_info": {
   "codemirror_mode": {
    "name": "ipython",
    "version": 3
   },
   "file_extension": ".py",
   "mimetype": "text/x-python",
   "name": "python",
   "nbconvert_exporter": "python",
   "pygments_lexer": "ipython3",
   "version": "3.7.5"
  }
 },
 "nbformat": 4,
 "nbformat_minor": 4
}
